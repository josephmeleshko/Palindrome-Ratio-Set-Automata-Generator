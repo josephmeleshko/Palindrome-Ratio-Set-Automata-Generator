{
 "cells": [
  {
   "cell_type": "markdown",
   "id": "6e88d973-867c-48a1-b752-e3204e1c76d4",
   "metadata": {},
   "source": [
    "# Palindrome Ratio Set Automata Generator\n",
    "\n",
    "Let $PAL_k \\subset \\mathbb{N}$ be the set of integers that are palindromes in base $k$.\n",
    "Let $APAL_k \\subset \\mathbb{N}$ be the set of integers that are antipalindromes in base $k$.\n",
    "Given $A, B \\subseteq \\mathbb{N}$, let $A/B = \\{a/b \\mid a \\in A, b \\in B - \\{0\\}\\}$ be the ratio set of $A$ and $B$.\n",
    "This code builds a finite automaton for a given $p,q \\in \\mathbb{N}$ and $A, B \\in \\{PAL, APAL\\}$ that accepts pairs $\\langle a,b\\rangle$ such that $a \\in A, b \\in B$ and $a/b = p/q$.\n",
    "\n",
    "More information on the algorithm and results can be found at <<LINK TO ARXIV HERE>>.\n",
    "\n",
    "Basic usage is\n",
    "```\n",
    "python3 PalindromeRatioAutomataGenerator.py p q base ASet BSet verbose? saveStates?\n",
    "```\n",
    "Where\n",
    "- $p$, $q$ and $base$ are integers such that $p > q$ and $base > 1$.\n",
    "- $ASet, BSet \\in \\{pal, apal\\}$ are strings to choose between palindromes and antipalindromes.\n",
    "- verbose is a boolean for extra debug input.\n",
    "- saveStates is a boolean that saves the produced automata as a pickled python dictionary.\n",
    "\n",
    "and it prints,\n",
    "```\n",
    "p q A B\n",
    "```\n",
    "where $A \\in ASet, B \\in BSet$ and $A$ and $B$ are minimal such that $A/B = p/q$.\n",
    "\n",
    "To directly build and work with the produced automaton, use\n",
    "```\n",
    "PalindromeRatioAutomataGenerator.generateAutomata(p, q, b, ASet, BSet, verbose)\n",
    "```\n",
    "which returns a dictionary where the keys are states and the values are lists which have the transitions and where they lead.\n",
    "\n",
    "For bulk processing to reproduce our general results,\n",
    "```\n",
    "python3 bulkInteger.py start stop base ASet BSet threads\n",
    "```\n",
    "which prints\n",
    "```\n",
    "p A B\n",
    "```\n",
    "as above with $q = 1$ for $start \\leq p < stop$ using $threads$ threads.\n",
    "Or alternatively,\n",
    "```\n",
    "python3 bulkRational.py start stop base ASet BSet threads\n",
    "```\n",
    "which prints\n",
    "```\n",
    "p q A B\n",
    "```\n",
    "for $start \\leq p < stop$, $1 \\leq q < p$, and $\\operatorname{gcd}(p, q) = 1$.\n",
    "\n",
    "The bulk processing scripts use python's multiprocessing for multithreading and tqdm for ongoing progress information but the main automata generator only uses basic python.\n",
    "Pypy seems to significantly speed up processing but isn't necessary.\n"
   ]
  }
 ],
 "metadata": {
  "kernelspec": {
   "display_name": "",
   "name": ""
  },
  "language_info": {
   "name": ""
  }
 },
 "nbformat": 4,
 "nbformat_minor": 5
}
